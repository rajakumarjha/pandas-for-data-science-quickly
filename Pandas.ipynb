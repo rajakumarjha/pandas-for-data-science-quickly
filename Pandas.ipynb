{
 "cells": [
  {
   "cell_type": "code",
   "execution_count": 74,
   "metadata": {},
   "outputs": [
    {
     "data": {
      "text/html": [
       "<div>\n",
       "<style scoped>\n",
       "    .dataframe tbody tr th:only-of-type {\n",
       "        vertical-align: middle;\n",
       "    }\n",
       "\n",
       "    .dataframe tbody tr th {\n",
       "        vertical-align: top;\n",
       "    }\n",
       "\n",
       "    .dataframe thead th {\n",
       "        text-align: right;\n",
       "    }\n",
       "</style>\n",
       "<table border=\"1\" class=\"dataframe\">\n",
       "  <thead>\n",
       "    <tr style=\"text-align: right;\">\n",
       "      <th></th>\n",
       "      <th>MinTemp</th>\n",
       "      <th>MaxTemp</th>\n",
       "      <th>Rainfall</th>\n",
       "      <th>Evaporation</th>\n",
       "      <th>Sunshine</th>\n",
       "      <th>WindGustDir</th>\n",
       "      <th>WindGustSpeed</th>\n",
       "      <th>WindDir9am</th>\n",
       "      <th>WindDir3pm</th>\n",
       "      <th>WindSpeed9am</th>\n",
       "      <th>...</th>\n",
       "      <th>Humidity3pm</th>\n",
       "      <th>Pressure9am</th>\n",
       "      <th>Pressure3pm</th>\n",
       "      <th>Cloud9am</th>\n",
       "      <th>Cloud3pm</th>\n",
       "      <th>Temp9am</th>\n",
       "      <th>Temp3pm</th>\n",
       "      <th>RainToday</th>\n",
       "      <th>RISK_MM</th>\n",
       "      <th>RainTomorrow</th>\n",
       "    </tr>\n",
       "  </thead>\n",
       "  <tbody>\n",
       "    <tr>\n",
       "      <th>0</th>\n",
       "      <td>8.0</td>\n",
       "      <td>24.3</td>\n",
       "      <td>0.0</td>\n",
       "      <td>3.4</td>\n",
       "      <td>6.3</td>\n",
       "      <td>NW</td>\n",
       "      <td>30.0</td>\n",
       "      <td>SW</td>\n",
       "      <td>NW</td>\n",
       "      <td>6.0</td>\n",
       "      <td>...</td>\n",
       "      <td>29</td>\n",
       "      <td>1019.7</td>\n",
       "      <td>1015.0</td>\n",
       "      <td>7</td>\n",
       "      <td>7</td>\n",
       "      <td>14.4</td>\n",
       "      <td>23.6</td>\n",
       "      <td>No</td>\n",
       "      <td>3.6</td>\n",
       "      <td>Yes</td>\n",
       "    </tr>\n",
       "    <tr>\n",
       "      <th>1</th>\n",
       "      <td>14.0</td>\n",
       "      <td>26.9</td>\n",
       "      <td>3.6</td>\n",
       "      <td>4.4</td>\n",
       "      <td>9.7</td>\n",
       "      <td>ENE</td>\n",
       "      <td>39.0</td>\n",
       "      <td>E</td>\n",
       "      <td>W</td>\n",
       "      <td>4.0</td>\n",
       "      <td>...</td>\n",
       "      <td>36</td>\n",
       "      <td>1012.4</td>\n",
       "      <td>1008.4</td>\n",
       "      <td>5</td>\n",
       "      <td>3</td>\n",
       "      <td>17.5</td>\n",
       "      <td>25.7</td>\n",
       "      <td>Yes</td>\n",
       "      <td>3.6</td>\n",
       "      <td>Yes</td>\n",
       "    </tr>\n",
       "    <tr>\n",
       "      <th>2</th>\n",
       "      <td>13.7</td>\n",
       "      <td>23.4</td>\n",
       "      <td>3.6</td>\n",
       "      <td>5.8</td>\n",
       "      <td>3.3</td>\n",
       "      <td>NW</td>\n",
       "      <td>85.0</td>\n",
       "      <td>N</td>\n",
       "      <td>NNE</td>\n",
       "      <td>6.0</td>\n",
       "      <td>...</td>\n",
       "      <td>69</td>\n",
       "      <td>1009.5</td>\n",
       "      <td>1007.2</td>\n",
       "      <td>8</td>\n",
       "      <td>7</td>\n",
       "      <td>15.4</td>\n",
       "      <td>20.2</td>\n",
       "      <td>Yes</td>\n",
       "      <td>39.8</td>\n",
       "      <td>Yes</td>\n",
       "    </tr>\n",
       "  </tbody>\n",
       "</table>\n",
       "<p>3 rows × 22 columns</p>\n",
       "</div>"
      ],
      "text/plain": [
       "   MinTemp  MaxTemp  Rainfall  Evaporation  Sunshine WindGustDir  \\\n",
       "0      8.0     24.3       0.0          3.4       6.3          NW   \n",
       "1     14.0     26.9       3.6          4.4       9.7         ENE   \n",
       "2     13.7     23.4       3.6          5.8       3.3          NW   \n",
       "\n",
       "   WindGustSpeed WindDir9am WindDir3pm  WindSpeed9am     ...       \\\n",
       "0           30.0         SW         NW           6.0     ...        \n",
       "1           39.0          E          W           4.0     ...        \n",
       "2           85.0          N        NNE           6.0     ...        \n",
       "\n",
       "   Humidity3pm  Pressure9am  Pressure3pm  Cloud9am  Cloud3pm  Temp9am  \\\n",
       "0           29       1019.7       1015.0         7         7     14.4   \n",
       "1           36       1012.4       1008.4         5         3     17.5   \n",
       "2           69       1009.5       1007.2         8         7     15.4   \n",
       "\n",
       "   Temp3pm  RainToday  RISK_MM RainTomorrow  \n",
       "0     23.6         No      3.6          Yes  \n",
       "1     25.7        Yes      3.6          Yes  \n",
       "2     20.2        Yes     39.8          Yes  \n",
       "\n",
       "[3 rows x 22 columns]"
      ]
     },
     "execution_count": 74,
     "metadata": {},
     "output_type": "execute_result"
    }
   ],
   "source": [
    "import pandas as pd\n",
    "#loading dataset to web\n",
    "# on reading csv files an object of datafrme will be returned and we have to malnipulate only with that dataframe.\n",
    "df=pd.read_csv('weather.csv')\n",
    "df.head(3)"
   ]
  },
  {
   "cell_type": "code",
   "execution_count": 24,
   "metadata": {},
   "outputs": [
    {
     "name": "stdout",
     "output_type": "stream",
     "text": [
      "          day temperature windspeed   rain\n",
      "0  11/01/2017          32         6   Rain\n",
      "1  12/01/2017          38         7  Sunny\n",
      "2  13/01/2017           3         1   Snow\n",
      "*********Slicing**********\n",
      "          day temperature windspeed  rain\n",
      "0  11/01/2017          32         6  Rain\n",
      "**********Shape*********\n",
      "(3, 4)\n",
      "*********Columns**********\n",
      "Index(['day', 'temperature', 'windspeed', 'rain'], dtype='object')\n"
     ]
    }
   ],
   "source": [
    "# lets creat a dataset\n",
    "weather_data=[('11/01/2017','32','6','Rain'),('12/01/2017','38','7','Sunny'),('13/01/2017','3','1','Snow')]\n",
    "# DataFrame is one datastructure in pandas which will read from a file and cretae a dataframe datastructure.\n",
    "df=pd.DataFrame(weather_data,columns=['day','temperature','windspeed','rain'])\n",
    "print(df.head())\n",
    "#slicing is also possible\n",
    "print(\"*********Slicing**********\")\n",
    "print(df[0:1])\n",
    "print(\"**********Shape*********\")\n",
    "print(df.shape)\n",
    "print(\"*********Columns**********\")\n",
    "print(df.columns)"
   ]
  },
  {
   "cell_type": "code",
   "execution_count": 25,
   "metadata": {},
   "outputs": [
    {
     "name": "stdout",
     "output_type": "stream",
     "text": [
      "0    11/01/2017\n",
      "1    12/01/2017\n",
      "2    13/01/2017\n",
      "Name: day, dtype: object\n"
     ]
    }
   ],
   "source": [
    "# individual columns can also be printed\n",
    "print(df['day'])\n"
   ]
  },
  {
   "cell_type": "code",
   "execution_count": 30,
   "metadata": {},
   "outputs": [
    {
     "name": "stdout",
     "output_type": "stream",
     "text": [
      "38\n"
     ]
    }
   ],
   "source": [
    "print(df['temperature'].max())"
   ]
  },
  {
   "cell_type": "code",
   "execution_count": 32,
   "metadata": {},
   "outputs": [
    {
     "data": {
      "text/html": [
       "<div>\n",
       "<style scoped>\n",
       "    .dataframe tbody tr th:only-of-type {\n",
       "        vertical-align: middle;\n",
       "    }\n",
       "\n",
       "    .dataframe tbody tr th {\n",
       "        vertical-align: top;\n",
       "    }\n",
       "\n",
       "    .dataframe thead th {\n",
       "        text-align: right;\n",
       "    }\n",
       "</style>\n",
       "<table border=\"1\" class=\"dataframe\">\n",
       "  <thead>\n",
       "    <tr style=\"text-align: right;\">\n",
       "      <th></th>\n",
       "      <th>day</th>\n",
       "      <th>temperature</th>\n",
       "      <th>windspeed</th>\n",
       "      <th>rain</th>\n",
       "    </tr>\n",
       "  </thead>\n",
       "  <tbody>\n",
       "    <tr>\n",
       "      <th>count</th>\n",
       "      <td>3</td>\n",
       "      <td>3</td>\n",
       "      <td>3</td>\n",
       "      <td>3</td>\n",
       "    </tr>\n",
       "    <tr>\n",
       "      <th>unique</th>\n",
       "      <td>3</td>\n",
       "      <td>3</td>\n",
       "      <td>3</td>\n",
       "      <td>3</td>\n",
       "    </tr>\n",
       "    <tr>\n",
       "      <th>top</th>\n",
       "      <td>13/01/2017</td>\n",
       "      <td>32</td>\n",
       "      <td>6</td>\n",
       "      <td>Snow</td>\n",
       "    </tr>\n",
       "    <tr>\n",
       "      <th>freq</th>\n",
       "      <td>1</td>\n",
       "      <td>1</td>\n",
       "      <td>1</td>\n",
       "      <td>1</td>\n",
       "    </tr>\n",
       "  </tbody>\n",
       "</table>\n",
       "</div>"
      ],
      "text/plain": [
       "               day temperature windspeed  rain\n",
       "count            3           3         3     3\n",
       "unique           3           3         3     3\n",
       "top     13/01/2017          32         6  Snow\n",
       "freq             1           1         1     1"
      ]
     },
     "execution_count": 32,
     "metadata": {},
     "output_type": "execute_result"
    }
   ],
   "source": [
    "# describes is an beautiful attribute present with datafrmane datastructure.\n",
    "df.describe()"
   ]
  },
  {
   "cell_type": "code",
   "execution_count": 33,
   "metadata": {},
   "outputs": [
    {
     "data": {
      "text/plain": [
       "count      3\n",
       "unique     3\n",
       "top       32\n",
       "freq       1\n",
       "Name: temperature, dtype: object"
      ]
     },
     "execution_count": 33,
     "metadata": {},
     "output_type": "execute_result"
    }
   ],
   "source": [
    "# describe can be used this way as well\n",
    "# so we can get many other things like max, min ,mean,eetc using this.\n",
    "df['temperature'].describe()"
   ]
  },
  {
   "cell_type": "code",
   "execution_count": 52,
   "metadata": {},
   "outputs": [
    {
     "name": "stdout",
     "output_type": "stream",
     "text": [
      "      Reg No.   A  Unnamed: 2   B  Unnamed: 4   C  Unnamed: 6   D  Unnamed: 8  \\\n",
      "1  16-1-1-001  AA        10.0  AA        10.0  AA        10.0  AA        10.0   \n",
      "2  16-1-1-002  AB         9.0  AB         9.0  BB         8.0  AB         9.0   \n",
      "3  16-1-1-004  CD         5.0  BC         7.0  CC         6.0  CC         6.0   \n",
      "4  16-1-1-005  BB         8.0  BB         8.0  AB         9.0  BB         8.0   \n",
      "5  16-1-1-006  BB         8.0  AB         9.0  AA        10.0  BB         8.0   \n",
      "\n",
      "    E         ...            H Unnamed: 16  Unnamed: 17   SPI  Unnamed: 19  \\\n",
      "1  AA         ...           AA        10.0          398  9.95          347   \n",
      "2  BB         ...           BB         8.0          346  8.65          315   \n",
      "3  CD         ...           AB         9.0          252   6.3          192   \n",
      "4  BC         ...           BB         8.0          324   8.1          259   \n",
      "5  AA         ...           AB         9.0          358  8.95          284   \n",
      "\n",
      "  Unnamed: 20  Unnamed: 21 Unnamed: 22    CPI                 NAME  \n",
      "1         394          370         384  9.465     Ashesh Choudhury  \n",
      "2         334          348         336  8.395  Ridon Prasad Kakoti  \n",
      "3         144          156         172   4.58              Praveen  \n",
      "4         212          274         296  6.825         Ashish Borah  \n",
      "5         282          304         332    7.8   Rupjilika Timungpi  \n",
      "\n",
      "[5 rows x 25 columns]\n",
      "(100, 25)\n"
     ]
    }
   ],
   "source": [
    "df=pd.read_excel('B.Tech. 5th sem. End Sem Exam Result.xls')\n",
    "df=df[4:]\n",
    "print(df.head(5))\n",
    "print(df.shape)"
   ]
  },
  {
   "cell_type": "code",
   "execution_count": null,
   "metadata": {},
   "outputs": [],
   "source": [
    "# we can concatnate two dataset second will be at the bottom.\n",
    "# we can merge two dataframe as well. Here we have to pass argument on which merge is going to happen"
   ]
  },
  {
   "cell_type": "code",
   "execution_count": 73,
   "metadata": {},
   "outputs": [
    {
     "name": "stdout",
     "output_type": "stream",
     "text": [
      "0    5\n",
      "Name: 1, dtype: int64\n"
     ]
    }
   ],
   "source": [
    "# numerical indexing in pandas\n",
    "df=pd.DataFrame([1,5,3,9,6,4,78,5,8,98])\n",
    "index=[10,9,8,7,6,5,4,3,2,1]\n",
    "print(df.iloc[1])\n"
   ]
  },
  {
   "cell_type": "code",
   "execution_count": null,
   "metadata": {},
   "outputs": [],
   "source": []
  }
 ],
 "metadata": {
  "kernelspec": {
   "display_name": "Python 3",
   "language": "python",
   "name": "python3"
  },
  "language_info": {
   "codemirror_mode": {
    "name": "ipython",
    "version": 3
   },
   "file_extension": ".py",
   "mimetype": "text/x-python",
   "name": "python",
   "nbconvert_exporter": "python",
   "pygments_lexer": "ipython3",
   "version": "3.6.4"
  }
 },
 "nbformat": 4,
 "nbformat_minor": 2
}
